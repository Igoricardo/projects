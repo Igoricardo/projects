{
 "cells": [
  {
   "cell_type": "code",
   "execution_count": 1,
   "id": "8a95d0e0",
   "metadata": {},
   "outputs": [
    {
     "name": "stdout",
     "output_type": "stream",
     "text": [
      "Requirement already satisfied: br-nome-gen in c:\\users\\igori\\anaconda3\\lib\\site-packages (1.3.0)\n"
     ]
    }
   ],
   "source": [
    "# 1. Instalação da biblioteca que gera nomes brasileiros completos automaticamente\n",
    "!pip install br-nome-gen"
   ]
  },
  {
   "cell_type": "code",
   "execution_count": 3,
   "id": "61ff75fb",
   "metadata": {},
   "outputs": [
    {
     "name": "stdout",
     "output_type": "stream",
     "text": [
      "Juan de Jesus da Lira\n",
      "Bruno Martinho Gomes\n"
     ]
    }
   ],
   "source": [
    "# 2. Importação do módulo pessoa_random da biblioteca br_nome_gen\n",
    "from br_nome_gen import pessoa_random\n",
    "\n",
    "# 3. Lista onde será armazenado os nomes gerados\n",
    "list_name = []\n",
    "\n",
    "# 4. Laço de repetição para gerar neste caso, 2 nomes diferentes\n",
    "for x in range(1,3):\n",
    "\n",
    "    # 4.1 Variável que recebe os nomes gerados\n",
    "    name = pessoa_random()\n",
    "    n = name.nome\n",
    "\n",
    "    # 4.2 Armazenamento do nome gerado na lista\n",
    "    list_name.append(n)\n",
    "\n",
    "# 5. Organiza os nomes gerados um embaixo do outro e não exibi mais os [] da lista e nem as vírgulas\n",
    "for names in list_name:\n",
    "    print(names)\n"
   ]
  }
 ],
 "metadata": {
  "kernelspec": {
   "display_name": "Python 3 (ipykernel)",
   "language": "python",
   "name": "python3"
  },
  "language_info": {
   "codemirror_mode": {
    "name": "ipython",
    "version": 3
   },
   "file_extension": ".py",
   "mimetype": "text/x-python",
   "name": "python",
   "nbconvert_exporter": "python",
   "pygments_lexer": "ipython3",
   "version": "3.9.13"
  }
 },
 "nbformat": 4,
 "nbformat_minor": 5
}
